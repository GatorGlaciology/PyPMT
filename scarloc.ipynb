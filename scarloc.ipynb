{
 "cells": [
  {
   "cell_type": "code",
   "execution_count": 1,
   "id": "6385d3b0",
   "metadata": {},
   "outputs": [],
   "source": [
    "import numpy as np\n",
    "from random import choice, seed\n",
    "from math import isnan\n",
    "import csv\n",
    "import pyproj"
   ]
  },
  {
   "cell_type": "code",
   "execution_count": 46,
   "id": "4f62d60b",
   "metadata": {},
   "outputs": [],
   "source": [
    "def ll2ps(lat, lon):\n",
    "    # Define the projection parameters\n",
    "    proj_params = {\n",
    "        'proj': 'stere',\n",
    "        'lat_0': 90, # suitable for the southern hemisphere\n",
    "        'lon_0': 0,\n",
    "        'lat_ts': -71,\n",
    "        'a': 6378137,\n",
    "        'b': 6356752.3\n",
    "    }\n",
    "\n",
    "    # Create the projection object\n",
    "    proj = pyproj.Proj(proj_params)\n",
    "\n",
    "    # Convert latitude and longitude to polar stereographic coordinates\n",
    "    x, y = proj(lon, lat)\n",
    "\n",
    "    return x, y"
   ]
  },
  {
   "cell_type": "code",
   "execution_count": 75,
   "id": "395c1f49",
   "metadata": {},
   "outputs": [],
   "source": [
    "def scarloc(featurename, *varargin):\n",
    "    \n",
    "    # Check if featurename is a list or a single string\n",
    "    if isinstance(featurename, str):\n",
    "        featurename = [featurename]\n",
    "\n",
    "    # Handle optional arguments\n",
    "    OfferHelp = False\n",
    "    pscoords = False\n",
    "    kmout = False\n",
    "\n",
    "    if len(varargin) > 0:\n",
    "        if isinstance(varargin[0], bool):\n",
    "            OfferHelp = varargin[0]\n",
    "        if len(varargin) >= 1:\n",
    "            if 'xy' in varargin[0]:\n",
    "                pscoords = True\n",
    "                if len(varargin) >= 2 and 'km' in varargin[1]:\n",
    "                    kmout = True\n",
    "\n",
    "    # Load data from CSV file\n",
    "    lat, lon, names = load_csv_data('SCAR_CGA_PLACE_NAMES.csv')\n",
    "\n",
    "    featurelat = np.full(len(featurename), np.nan)\n",
    "    featurelon = np.full(len(featurename), np.nan)\n",
    "\n",
    "    # Look for each feature name\n",
    "    for k in range(len(featurelat)):\n",
    "        x, NearbyNames = strlookup(featurename[k], names)\n",
    "        if x is None and OfferHelp:\n",
    "            fmsg = [\n",
    "                f'\"{featurename[k]}\" not found.',\n",
    "                f'Are you sure that \"{featurename[k]}\" exists in Antarctica?',\n",
    "                'Did a cat walk across your keyboard?',\n",
    "                'This is the real reason one shouldn''t text and drive. Check your spelling and try again.',\n",
    "                'Now you''re just making things up.',\n",
    "                f'SCAR has identified more than 25,000 features in Antarctica, but \"{featurename[k]}\" is not one of them.',\n",
    "                f'Can''t find \"{featurename[k]}\".',\n",
    "                f'\"{featurename[k]}\" may exist somewhere in the world, but you won''t find it in Antarctica.',\n",
    "                f'It is possible that Robert F. Scott named something in Antarctica \"{featurename[k]}\", but if he did there are no records of it.',\n",
    "                f'You must be thinking of {featurename[k]}, Kansas, because {featurename[k]}, Antarctica does not exist.',\n",
    "                f'Sure, they used to just call it {featurename[k]}, but not anymore, what with political correctness and all.',\n",
    "                f'\"{featurename[k]}\" is an interesting combination of letters, but I don''t think it''s any place in Antarctica.',\n",
    "                f'The great Wayne Cochran once sang, \"Where oh where can my {featurename[k]} be?\" Because it''s not in Antarctica.',\n",
    "                f'I''m pretty sure it is in violation of the Antarctic Treaty to refer to any place as \"{featurename[k]}\".',\n",
    "                f'\"{featurename[k]}\" does not match any entries in the SCAR database.',\n",
    "                f'Science is all about formality, so the bigwigs will surely look down their noses at such colloquial jargon as \"{featurename[k]}\".',\n",
    "                f'My doctor said I need to get my {featurename[k]} removed.',\n",
    "                'Frostbitten Antarctic researcher mistypes again.',\n",
    "                'This may be an issue of American English versus British English.',\n",
    "                f'Antarctica''s a strange place, but it''s not science fiction. Verify that \"{featurename[k]}\" actually exists.',\n",
    "                f'What''s in a name? I''ll tell you what''s in a name: That which you call \"{featurename[k]}\" by any other name may actually exist in Antarctica.',\n",
    "                f'Did John Carpenter tell you''ll find \"{featurename[k]}\" in Antarctica?',\n",
    "                f'You know, some folks say glaciology is a shrinking field, but I say things are just heating up. In other news, \"{featurename[k]}\" does not exist.',\n",
    "                f'You''re a glaciologist? Isn''t that a slow-moving field? Also, I have to tell you, I can''t seem to find any record of \"{featurename[k]}\".',\n",
    "                f'Amazing glaciology, how sweet the sound... \"{featurename[k]}\" once was lost, and still has not been found.'\n",
    "            ]\n",
    "\n",
    "            np.random.shuffle(fmsg)\n",
    "            print(fmsg[0])\n",
    "            if NearbyNames:\n",
    "                print('Here are the best matches I can find:')\n",
    "                print(NearbyNames)\n",
    "            else:\n",
    "                print('Try typing \"load scarnames\" to explore the available list of features.')\n",
    "            return\n",
    "\n",
    "        if x is not None:\n",
    "            featurelat[k] = lat[x]\n",
    "            featurelon[k] = lon[x]\n",
    "    \n",
    "    # Convert to polar stereographic coordinates\n",
    "    if pscoords:\n",
    "        featurelat, featurelon = ll2ps(featurelat, featurelon)\n",
    "\n",
    "    # Convert to polar stereographic kilometers\n",
    "    if kmout:\n",
    "        featurelon = featurelon / 1000\n",
    "        featurelat = featurelat / 1000\n",
    "\n",
    "    # Returning only latitude or only x would not make any sense,\n",
    "    # so if no outputs are requested, or if only one output is requested,\n",
    "    # return as a lat column and lon column or [x y]\n",
    "    if len(featurename) == 1:\n",
    "        varargout = np.column_stack((featurelat, featurelon))\n",
    "        return varargout[0]\n",
    "    else:\n",
    "        varargout = [featurelat, featurelon]\n",
    "        return varargout\n"
   ]
  },
  {
   "cell_type": "code",
   "execution_count": 76,
   "id": "005cb6a4",
   "metadata": {},
   "outputs": [],
   "source": [
    "def load_csv_data(filename):\n",
    "    lat = []\n",
    "    lon = []\n",
    "    names = []\n",
    "\n",
    "    with open(filename, 'r', encoding='utf-8') as csvfile:\n",
    "        csvreader = csv.reader(csvfile)\n",
    "        next(csvreader)  # Skip header row\n",
    "\n",
    "        for row in csvreader:\n",
    "            try:\n",
    "                lat_val = float(row[5])\n",
    "                lon_val = float(row[6])\n",
    "                lat.append(lat_val)\n",
    "                lon.append(lon_val)\n",
    "                names.append(row[1])\n",
    "            except ValueError:\n",
    "                continue\n",
    "\n",
    "    return np.array(lat), np.array(lon), np.array(names)"
   ]
  },
  {
   "cell_type": "code",
   "execution_count": 77,
   "id": "4f35b122",
   "metadata": {},
   "outputs": [],
   "source": [
    "def strlookup(featurename, names):\n",
    "    featurename = featurename.lower()  # Convert featurename to lowercase for case-insensitive matching\n",
    "\n",
    "    indices = [i for i, name in enumerate(names) if featurename in name.lower()]\n",
    "\n",
    "    if len(indices) > 0:\n",
    "        x = indices[0]  # Choose the first matching index\n",
    "        NearbyNames = [names[i] for i in indices]  # Get all matching names\n",
    "    else:\n",
    "        x = None\n",
    "        NearbyNames = []\n",
    "\n",
    "    return x, NearbyNames"
   ]
  },
  {
   "cell_type": "code",
   "execution_count": 78,
   "id": "5661203a",
   "metadata": {},
   "outputs": [],
   "source": [
    "def handle_missing_feature(featurename, NearbyNames):\n",
    "    fmsg = [\n",
    "        f'\"{featurename}\" not found.',\n",
    "        f'Are you sure that \"{featurename}\" exists in Antarctica?',\n",
    "        'Did a cat walk across your keyboard?',\n",
    "        'This is the real reason one shouldn\\'t text and drive. Check your spelling and try again.',\n",
    "        'Now you\\'re just making things up.',\n",
    "        f'SCAR has identified more than 25,000 features in Antarctica, but \"{featurename}\" is not one of them.',\n",
    "        f'Can\\'t find \"{featurename}\".',\n",
    "        f'\"{featurename}\" may exist somewhere in the world, but you won\\'t find it in Antarctica.',\n",
    "        f'It is possible that Robert F. Scott named something in Antarctica \"{featurename}\", but if he did there are no records of it.',\n",
    "        f'You must be thinking of {featurename}, Kansas, because {featurename}, Antarctica does not exist.',\n",
    "        f'Sure, they used to just call it {featurename}, but not anymore, what with political correctness and all.',\n",
    "        f'\"{featurename}\" is an interesting combination of letters, but I don\\'t think it\\'s any place in Antarctica.',\n",
    "        f'The great Wayne Cochran once sang, \"Where oh where can my {featurename} be?\" Because it\\'s not in Antarctica.',\n",
    "        f'I\\'m pretty sure it is in violation of the Antarctic Treaty to refer to any place as \"{featurename}\".',\n",
    "        f'\"{featurename}\" does not match any entries in the SCAR database.',\n",
    "        f'Science is all about formality, so the bigwigs will surely look down their noses at such colloquial jargon as \"{featurename}\".',\n",
    "        f'My doctor said I need to get my {featurename} removed.',\n",
    "        'Frostbitten Antarctic researcher mistypes again.',\n",
    "        'This may be an issue of American English versus British English.',\n",
    "        f'Antarctica\\'s a strange place, but it\\'s not science fiction. Verify that \"{featurename}\" actually exists.',\n",
    "        f'What\\'s in a name? I\\'ll tell you what\\'s in a name: That which you call \"{featurename}\" by any other name may actually exist in Antarctica.',\n",
    "        f'Did John Carpenter tell you\\'ll find \"{featurename}\" in Antarctica?',\n",
    "        f'You know, some folks say glaciology is a shrinking field, but I say things are just heating up. In other news, \"{featurename}\" does not exist.',\n",
    "        f'You\\'re a glaciologist? Isn\\'t that a slow-moving field? Also, I have to tell you, I can\\'t seem to find any record of \"{featurename}\".',\n",
    "        f'Amazing glaciology, how sweet the sound... \"{featurename}\" once was lost, and still has not been found.'\n",
    "    ]\n",
    "\n",
    "    rngstart = seed()  # get initial rng setting before changing it temporarily.\n",
    "    random_msg = choice(fmsg)\n",
    "    print(random_msg)\n",
    "    seed(rngstart)  # returns to original rng settings.\n",
    "\n",
    "    if NearbyNames:\n",
    "        print('Here are the best matches I can find:')\n",
    "        print(NearbyNames)\n",
    "    else:\n",
    "        print('Try typing \"load scarnames\" to explore the available list of features.')\n",
    "\n",
    "    return np.nan, np.nan"
   ]
  },
  {
   "cell_type": "code",
   "execution_count": 86,
   "id": "b5b1a817",
   "metadata": {
    "scrolled": true
   },
   "outputs": [
    {
     "name": "stdout",
     "output_type": "stream",
     "text": [
      "-77.8478\n",
      "166.6683\n"
     ]
    }
   ],
   "source": [
    "[lat,lon] = scarloc('McMurdo Station')\n",
    "print(lat)\n",
    "print(lon)"
   ]
  },
  {
   "cell_type": "code",
   "execution_count": 81,
   "id": "10f69eb8",
   "metadata": {},
   "outputs": [
    {
     "name": "stdout",
     "output_type": "stream",
     "text": [
      "[-77.8478 166.6683]\n"
     ]
    }
   ],
   "source": [
    "latlon = scarloc('mcmurdo station')\n",
    "print(latlon)"
   ]
  },
  {
   "cell_type": "code",
   "execution_count": 82,
   "id": "678e5cd6",
   "metadata": {},
   "outputs": [
    {
     "data": {
      "text/plain": [
       "[array([-80.0833, -66.2833, -75.    ]),\n",
       " array([-119.5333,  110.5194, -101.    ])]"
      ]
     },
     "execution_count": 82,
     "metadata": {},
     "output_type": "execute_result"
    }
   ],
   "source": [
    "places = ['Byrd Camp','Casey Station','Pine Island Glacier']\n",
    "scarloc(places)"
   ]
  },
  {
   "cell_type": "code",
   "execution_count": 84,
   "id": "5dee9512",
   "metadata": {},
   "outputs": [
    {
     "data": {
      "text/plain": [
       "[array([ -939729.52149631,  2447051.54179615, -1608674.17796745]),\n",
       " array([-532394.61214777, -915859.58138777, -312694.58401518])]"
      ]
     },
     "execution_count": 84,
     "metadata": {},
     "output_type": "execute_result"
    }
   ],
   "source": [
    "scarloc(['Byrd Camp','Casey Station','Pine Island Glacier'],'xy')"
   ]
  },
  {
   "cell_type": "code",
   "execution_count": 85,
   "id": "f5ce603a",
   "metadata": {},
   "outputs": [
    {
     "data": {
      "text/plain": [
       "[array([ -939.7295215 ,  2447.0515418 , -1608.67417797]),\n",
       " array([-532.39461215, -915.85958139, -312.69458402])]"
      ]
     },
     "execution_count": 85,
     "metadata": {},
     "output_type": "execute_result"
    }
   ],
   "source": [
    "scarloc(['Byrd Camp','Casey Station','Pine Island Glacier'],'xy','km')"
   ]
  },
  {
   "cell_type": "code",
   "execution_count": null,
   "id": "9fc4d735",
   "metadata": {},
   "outputs": [],
   "source": []
  }
 ],
 "metadata": {
  "kernelspec": {
   "display_name": "Python 3 (ipykernel)",
   "language": "python",
   "name": "python3"
  },
  "language_info": {
   "codemirror_mode": {
    "name": "ipython",
    "version": 3
   },
   "file_extension": ".py",
   "mimetype": "text/x-python",
   "name": "python",
   "nbconvert_exporter": "python",
   "pygments_lexer": "ipython3",
   "version": "3.10.6"
  }
 },
 "nbformat": 4,
 "nbformat_minor": 5
}
